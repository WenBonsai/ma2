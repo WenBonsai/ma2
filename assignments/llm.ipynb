{
 "cells": [
  {
   "cell_type": "markdown",
   "metadata": {},
   "source": [
    "**AI & Machine Learning (KAN-CINTO4003U) - Copenhagen Business School | Spring 2025**\n",
    "\n",
    "***"
   ]
  },
  {
   "cell_type": "markdown",
   "metadata": {},
   "source": [
    "\n",
    "# Part III: LLM\n",
    "\n",
    "Please see the description of the assignment in the README file (section 3) <br>\n",
    "**Guide notebook**: [guides/llm_guide.ipynb](guides/llm_guide.ipynb)\n",
    "\n",
    "\n",
    "***\n",
    "\n",
    "<br>\n",
    "\n",
    "* Note that you should report results using a classification report. \n",
    "\n",
    "* Also, remember to include some reflections on your results: how do they compare with the results from Part I, BoW?, and part II, BERT? Are there any hyperparameters or prompting techniques that are particularly important?\n",
    "\n",
    "* You should follow the steps given in the `llm_guide` notebook\n",
    "\n",
    "<br>\n",
    "\n",
    "\n",
    "***"
   ]
  },
  {
   "cell_type": "code",
   "execution_count": 2,
   "metadata": {},
   "outputs": [],
   "source": [
    "# imports for the project\n",
    "\n",
    "import pandas as pd\n",
    "from decouple import config\n",
    "from ibm_watsonx_ai import APIClient\n",
    "from ibm_watsonx_ai import Credentials\n",
    "from ibm_watsonx_ai.foundation_models import ModelInference"
   ]
  },
  {
   "cell_type": "markdown",
   "metadata": {},
   "source": [
    "### 1. Load the data\n",
    "\n",
    "We can load this data directly from [Hugging Face Datasets](https://huggingface.co/docs/datasets/) - The HuggingFace Hub- into a Pandas DataFrame. Pretty neat!\n",
    "\n",
    "**Note**: This cell will download the dataset and keep it in memory. If you run this cell multiple times, it will download the dataset multiple times.\n",
    "\n",
    "You are welcome to increase the `frac` parameter to load more data."
   ]
  },
  {
   "cell_type": "code",
   "execution_count": 6,
   "metadata": {},
   "outputs": [],
   "source": [
    "\n",
    "splits = {'train': 'data/train-00000-of-00001.parquet', 'test': 'data/test-00000-of-00001.parquet'}\n",
    "# train = pd.read_parquet(\"hf://datasets/fancyzhx/ag_news/\" + splits[\"train\"])\n",
    "test = pd.read_parquet(\"hf://datasets/fancyzhx/ag_news/\" + splits[\"test\"])"
   ]
  },
  {
   "cell_type": "code",
   "execution_count": 7,
   "metadata": {},
   "outputs": [
    {
     "name": "stderr",
     "output_type": "stream",
     "text": [
      "/var/folders/2j/wzft95zd5sz_3s920kzphbh40000gn/T/ipykernel_76605/1491324161.py:14: DeprecationWarning: DataFrameGroupBy.apply operated on the grouping columns. This behavior is deprecated, and in a future version of pandas the grouping columns will be excluded from the operation. Either pass `include_groups=False` to exclude the groupings or explicitly select the grouping columns after groupby to silence this warning.\n",
      "  .apply(lambda x: x.sample(frac=frac, random_state=seed))\n"
     ]
    },
    {
     "data": {
      "text/plain": [
       "((6840, 2),)"
      ]
     },
     "execution_count": 7,
     "metadata": {},
     "output_type": "execute_result"
    }
   ],
   "source": [
    "label_map = {\n",
    "    0: 'World',\n",
    "    1: 'Sports',\n",
    "    2: 'Business',\n",
    "    3: 'Sci/Tech'\n",
    "}\n",
    "\n",
    "def preprocess(df: pd.DataFrame, frac = 1e-2, label_map = label_map, seed=42) -> pd.DataFrame:\n",
    "    return  (\n",
    "        df\n",
    "        .assign(label=lambda x: x['label'].map(label_map))\n",
    "        [lambda df: df['label'].isin(label_map.values())]\n",
    "        .groupby('label')\n",
    "        .apply(lambda x: x.sample(frac=frac, random_state=seed))\n",
    "        .reset_index(drop=True)\n",
    "\n",
    "    )\n",
    "\n",
    "# train_df = preprocess(train, frac=0.01)\n",
    "test_df = preprocess(test, frac=0.9)\n",
    "\n",
    "# clear up some memory by deleting the original dataframes\n",
    "# del train\n",
    "del test\n",
    "\n",
    "test_df.shape, # train_df.shape, "
   ]
  },
  {
   "cell_type": "code",
   "execution_count": 14,
   "metadata": {},
   "outputs": [],
   "source": [
    "import os\n",
    "from dotenv import load_dotenv\n",
    "from decouple import config\n",
    "\n",
    "env_path = \"/Users/wenlong/Documents/GitHub/ma2/assignments/.env\"\n",
    "load_dotenv(dotenv_path=env_path)\n",
    "\n",
    "WX_API_KEY = os.getenv(\"WX_API_KEY\")\n",
    "WX_API_KEY = config('WX_API_KEY')\n"
   ]
  },
  {
   "cell_type": "code",
   "execution_count": 15,
   "metadata": {},
   "outputs": [
    {
     "name": "stderr",
     "output_type": "stream",
     "text": [
      "Cannot set Project or Space\n",
      "Reason: {\"id\":\"WSCPA0000E\",\"code\":401,\"error\":\"Unauthorized\",\"reason\":\"Failed to retrieve IAM user profile for IBMid-692000TRQ5: Failed to verify user profile existance: wech21ab@student.cbs.dk: [Request #1237] Encountered an unacceptable status code: 404. Expected status codes: 200.\",\"message\":\"Access denied\"}\n"
     ]
    },
    {
     "ename": "CannotSetProjectOrSpace",
     "evalue": "Cannot set Project or Space\nReason: {\"id\":\"WSCPA0000E\",\"code\":401,\"error\":\"Unauthorized\",\"reason\":\"Failed to retrieve IAM user profile for IBMid-692000TRQ5: Failed to verify user profile existance: wech21ab@student.cbs.dk: [Request #1237] Encountered an unacceptable status code: 404. Expected status codes: 200.\",\"message\":\"Access denied\"}",
     "output_type": "error",
     "traceback": [
      "\u001b[0;31m---------------------------------------------------------------------------\u001b[0m",
      "\u001b[0;31mCannotSetProjectOrSpace\u001b[0m                   Traceback (most recent call last)",
      "Cell \u001b[0;32mIn[15], line 6\u001b[0m\n\u001b[1;32m      1\u001b[0m credentials \u001b[38;5;241m=\u001b[39m Credentials(\n\u001b[1;32m      2\u001b[0m     url \u001b[38;5;241m=\u001b[39m \u001b[38;5;124m\"\u001b[39m\u001b[38;5;124mhttps://eu-de.ml.cloud.ibm.com\u001b[39m\u001b[38;5;124m\"\u001b[39m,\n\u001b[1;32m      3\u001b[0m     api_key \u001b[38;5;241m=\u001b[39m WX_API_KEY\n\u001b[1;32m      4\u001b[0m )\n\u001b[0;32m----> 6\u001b[0m client \u001b[38;5;241m=\u001b[39m \u001b[43mAPIClient\u001b[49m\u001b[43m(\u001b[49m\n\u001b[1;32m      7\u001b[0m \u001b[43m    \u001b[49m\u001b[43mcredentials\u001b[49m\u001b[38;5;241;43m=\u001b[39;49m\u001b[43mcredentials\u001b[49m\u001b[43m,\u001b[49m\u001b[43m \u001b[49m\n\u001b[1;32m      8\u001b[0m \u001b[43m    \u001b[49m\u001b[43mproject_id\u001b[49m\u001b[38;5;241;43m=\u001b[39;49m\u001b[38;5;124;43m\"\u001b[39;49m\u001b[38;5;124;43mea176fc8-4852-4798-bf23-063620807ec9\u001b[39;49m\u001b[38;5;124;43m\"\u001b[39;49m\n\u001b[1;32m      9\u001b[0m \u001b[43m)\u001b[49m\n",
      "File \u001b[0;32m/opt/anaconda3/envs/aiml25/lib/python3.10/site-packages/ibm_watsonx_ai/client.py:481\u001b[0m, in \u001b[0;36mAPIClient.__init__\u001b[0;34m(self, credentials, project_id, space_id, verify, httpx_client, async_httpx_client, **kwargs)\u001b[0m\n\u001b[1;32m    478\u001b[0m \u001b[38;5;28mself\u001b[39m\u001b[38;5;241m.\u001b[39mset \u001b[38;5;241m=\u001b[39m Set(\u001b[38;5;28mself\u001b[39m)\n\u001b[1;32m    480\u001b[0m \u001b[38;5;28;01mif\u001b[39;00m project_id:\n\u001b[0;32m--> 481\u001b[0m     \u001b[38;5;28;43mself\u001b[39;49m\u001b[38;5;241;43m.\u001b[39;49m\u001b[43mset\u001b[49m\u001b[38;5;241;43m.\u001b[39;49m\u001b[43mdefault_project\u001b[49m\u001b[43m(\u001b[49m\u001b[43mproject_id\u001b[49m\u001b[43m)\u001b[49m  \u001b[38;5;66;03m# recognizes project type\u001b[39;00m\n\u001b[1;32m    482\u001b[0m \u001b[38;5;28;01melif\u001b[39;00m space_id:\n\u001b[1;32m    483\u001b[0m     \u001b[38;5;28mself\u001b[39m\u001b[38;5;241m.\u001b[39mset\u001b[38;5;241m.\u001b[39mdefault_space(space_id)\n",
      "File \u001b[0;32m/opt/anaconda3/envs/aiml25/lib/python3.10/site-packages/ibm_watsonx_ai/Set.py:141\u001b[0m, in \u001b[0;36mSet.default_project\u001b[0;34m(self, project_id)\u001b[0m\n\u001b[1;32m    134\u001b[0m     \u001b[38;5;28;01mraise\u001b[39;00m ExceededLimitOfAPICalls(\n\u001b[1;32m    135\u001b[0m         project_endpoint, reason\u001b[38;5;241m=\u001b[39mproject_details\u001b[38;5;241m.\u001b[39mtext\n\u001b[1;32m    136\u001b[0m     )\n\u001b[1;32m    137\u001b[0m \u001b[38;5;28;01melif\u001b[39;00m (\n\u001b[1;32m    138\u001b[0m     project_details\u001b[38;5;241m.\u001b[39mstatus_code \u001b[38;5;241m!=\u001b[39m \u001b[38;5;241m200\u001b[39m\n\u001b[1;32m    139\u001b[0m     \u001b[38;5;129;01mand\u001b[39;00m project_details\u001b[38;5;241m.\u001b[39mstatus_code \u001b[38;5;241m!=\u001b[39m \u001b[38;5;241m204\u001b[39m\n\u001b[1;32m    140\u001b[0m ):\n\u001b[0;32m--> 141\u001b[0m     \u001b[38;5;28;01mraise\u001b[39;00m CannotSetProjectOrSpace(reason\u001b[38;5;241m=\u001b[39mproject_details\u001b[38;5;241m.\u001b[39mtext)\n\u001b[1;32m    142\u001b[0m \u001b[38;5;28;01melse\u001b[39;00m:\n\u001b[1;32m    143\u001b[0m     \u001b[38;5;28mself\u001b[39m\u001b[38;5;241m.\u001b[39m_client\u001b[38;5;241m.\u001b[39mproject_type \u001b[38;5;241m=\u001b[39m project_details\u001b[38;5;241m.\u001b[39mjson()[\u001b[38;5;124m\"\u001b[39m\u001b[38;5;124mentity\u001b[39m\u001b[38;5;124m\"\u001b[39m][\u001b[38;5;124m\"\u001b[39m\u001b[38;5;124mstorage\u001b[39m\u001b[38;5;124m\"\u001b[39m][\n\u001b[1;32m    144\u001b[0m         \u001b[38;5;124m\"\u001b[39m\u001b[38;5;124mtype\u001b[39m\u001b[38;5;124m\"\u001b[39m\n\u001b[1;32m    145\u001b[0m     ]\n",
      "\u001b[0;31mCannotSetProjectOrSpace\u001b[0m: Cannot set Project or Space\nReason: {\"id\":\"WSCPA0000E\",\"code\":401,\"error\":\"Unauthorized\",\"reason\":\"Failed to retrieve IAM user profile for IBMid-692000TRQ5: Failed to verify user profile existance: wech21ab@student.cbs.dk: [Request #1237] Encountered an unacceptable status code: 404. Expected status codes: 200.\",\"message\":\"Access denied\"}"
     ]
    }
   ],
   "source": [
    "credentials = Credentials(\n",
    "    url = \"https://eu-de.ml.cloud.ibm.com\",\n",
    "    api_key = WX_API_KEY\n",
    ")\n",
    "\n",
    "client = APIClient(\n",
    "    credentials=credentials, \n",
    "    project_id=\"ApiKey-093389fa-e07f-4809-9b4f-882486d6bf44ApiKey-093389fa-e07f-4809-9b4f-882486d6bf44\"\n",
    ")\n",
    "\n"
   ]
  },
  {
   "cell_type": "code",
   "execution_count": null,
   "metadata": {},
   "outputs": [],
   "source": []
  }
 ],
 "metadata": {
  "kernelspec": {
   "display_name": "aiml25",
   "language": "python",
   "name": "python3"
  },
  "language_info": {
   "codemirror_mode": {
    "name": "ipython",
    "version": 3
   },
   "file_extension": ".py",
   "mimetype": "text/x-python",
   "name": "python",
   "nbconvert_exporter": "python",
   "pygments_lexer": "ipython3",
   "version": "3.10.16"
  }
 },
 "nbformat": 4,
 "nbformat_minor": 2
}
